{
 "cells": [
  {
   "cell_type": "code",
   "execution_count": 1,
   "metadata": {},
   "outputs": [
    {
     "name": "stderr",
     "output_type": "stream",
     "text": [
      "/Users/erik/opt/anaconda3/lib/python3.9/site-packages/lightfm/_lightfm_fast.py:9: UserWarning: LightFM was compiled without OpenMP support. Only a single thread will be used.\n",
      "  warnings.warn(\n"
     ]
    }
   ],
   "source": [
    "import pandas as pd\n",
    "import numpy as np\n",
    "from pandasql import sqldf\n",
    "import random\n",
    "from lightfm import LightFM\n",
    "import json\n",
    "\n",
    "rec_path = r'/Users/erik/Downloads/archive(1)/recommendations.csv'\n",
    "games_path = r'/Users/erik/Downloads/archive(1)/games.csv'\n",
    "users_path = r'/Users/erik/Downloads/archive(1)/users.csv'\n",
    "games_metadata_path = r'/Users/erik/Downloads/archive(1)/games_metadata.json'\n"
   ]
  },
  {
   "cell_type": "code",
   "execution_count": 2,
   "metadata": {},
   "outputs": [],
   "source": [
    "recommendations = pd.read_csv(rec_path)\n",
    "games = pd.read_csv(games_path)\n",
    "users = pd.read_csv(users_path)\n",
    "games_metadata = pd.read_json(games_metadata_path, lines=True)"
   ]
  },
  {
   "cell_type": "code",
   "execution_count": 3,
   "metadata": {},
   "outputs": [
    {
     "data": {
      "text/html": [
       "<div>\n",
       "<style scoped>\n",
       "    .dataframe tbody tr th:only-of-type {\n",
       "        vertical-align: middle;\n",
       "    }\n",
       "\n",
       "    .dataframe tbody tr th {\n",
       "        vertical-align: top;\n",
       "    }\n",
       "\n",
       "    .dataframe thead th {\n",
       "        text-align: right;\n",
       "    }\n",
       "</style>\n",
       "<table border=\"1\" class=\"dataframe\">\n",
       "  <thead>\n",
       "    <tr style=\"text-align: right;\">\n",
       "      <th></th>\n",
       "      <th>user_id</th>\n",
       "      <th>products</th>\n",
       "      <th>reviews</th>\n",
       "    </tr>\n",
       "  </thead>\n",
       "  <tbody>\n",
       "    <tr>\n",
       "      <th>33</th>\n",
       "      <td>1965432</td>\n",
       "      <td>702</td>\n",
       "      <td>32</td>\n",
       "    </tr>\n",
       "    <tr>\n",
       "      <th>339</th>\n",
       "      <td>4834290</td>\n",
       "      <td>433</td>\n",
       "      <td>36</td>\n",
       "    </tr>\n",
       "    <tr>\n",
       "      <th>541</th>\n",
       "      <td>6116691</td>\n",
       "      <td>262</td>\n",
       "      <td>24</td>\n",
       "    </tr>\n",
       "    <tr>\n",
       "      <th>555</th>\n",
       "      <td>20561</td>\n",
       "      <td>494</td>\n",
       "      <td>33</td>\n",
       "    </tr>\n",
       "    <tr>\n",
       "      <th>596</th>\n",
       "      <td>136427</td>\n",
       "      <td>172</td>\n",
       "      <td>22</td>\n",
       "    </tr>\n",
       "    <tr>\n",
       "      <th>...</th>\n",
       "      <td>...</td>\n",
       "      <td>...</td>\n",
       "      <td>...</td>\n",
       "    </tr>\n",
       "    <tr>\n",
       "      <th>6161915</th>\n",
       "      <td>93254</td>\n",
       "      <td>362</td>\n",
       "      <td>20</td>\n",
       "    </tr>\n",
       "    <tr>\n",
       "      <th>6163785</th>\n",
       "      <td>680714</td>\n",
       "      <td>304</td>\n",
       "      <td>21</td>\n",
       "    </tr>\n",
       "    <tr>\n",
       "      <th>6164214</th>\n",
       "      <td>807989</td>\n",
       "      <td>458</td>\n",
       "      <td>43</td>\n",
       "    </tr>\n",
       "    <tr>\n",
       "      <th>6164311</th>\n",
       "      <td>839326</td>\n",
       "      <td>185</td>\n",
       "      <td>24</td>\n",
       "    </tr>\n",
       "    <tr>\n",
       "      <th>6164629</th>\n",
       "      <td>922219</td>\n",
       "      <td>72</td>\n",
       "      <td>25</td>\n",
       "    </tr>\n",
       "  </tbody>\n",
       "</table>\n",
       "<p>14956 rows × 3 columns</p>\n",
       "</div>"
      ],
      "text/plain": [
       "         user_id  products  reviews\n",
       "33       1965432       702       32\n",
       "339      4834290       433       36\n",
       "541      6116691       262       24\n",
       "555        20561       494       33\n",
       "596       136427       172       22\n",
       "...          ...       ...      ...\n",
       "6161915    93254       362       20\n",
       "6163785   680714       304       21\n",
       "6164214   807989       458       43\n",
       "6164311   839326       185       24\n",
       "6164629   922219        72       25\n",
       "\n",
       "[14956 rows x 3 columns]"
      ]
     },
     "execution_count": 3,
     "metadata": {},
     "output_type": "execute_result"
    }
   ],
   "source": [
    "df_users = users.loc[users['reviews'] >= 20]\n",
    "df_users"
   ]
  },
  {
   "cell_type": "code",
   "execution_count": 4,
   "metadata": {},
   "outputs": [
    {
     "data": {
      "text/html": [
       "<div>\n",
       "<style scoped>\n",
       "    .dataframe tbody tr th:only-of-type {\n",
       "        vertical-align: middle;\n",
       "    }\n",
       "\n",
       "    .dataframe tbody tr th {\n",
       "        vertical-align: top;\n",
       "    }\n",
       "\n",
       "    .dataframe thead th {\n",
       "        text-align: right;\n",
       "    }\n",
       "</style>\n",
       "<table border=\"1\" class=\"dataframe\">\n",
       "  <thead>\n",
       "    <tr style=\"text-align: right;\">\n",
       "      <th></th>\n",
       "      <th>app_id</th>\n",
       "      <th>title</th>\n",
       "      <th>date_release</th>\n",
       "      <th>win</th>\n",
       "      <th>mac</th>\n",
       "      <th>linux</th>\n",
       "      <th>rating</th>\n",
       "      <th>positive_ratio</th>\n",
       "      <th>user_reviews</th>\n",
       "      <th>price_final</th>\n",
       "      <th>price_original</th>\n",
       "      <th>discount</th>\n",
       "      <th>steam_deck</th>\n",
       "      <th>description</th>\n",
       "      <th>tags</th>\n",
       "    </tr>\n",
       "  </thead>\n",
       "  <tbody>\n",
       "    <tr>\n",
       "      <th>0</th>\n",
       "      <td>10090</td>\n",
       "      <td>Call of Duty: World at War</td>\n",
       "      <td>2008-11-18</td>\n",
       "      <td>True</td>\n",
       "      <td>False</td>\n",
       "      <td>False</td>\n",
       "      <td>Very Positive</td>\n",
       "      <td>92</td>\n",
       "      <td>37039</td>\n",
       "      <td>19.99</td>\n",
       "      <td>19.99</td>\n",
       "      <td>0.0</td>\n",
       "      <td>True</td>\n",
       "      <td>Call of Duty is back, redefining war like you'...</td>\n",
       "      <td>[Zombies, World War II, FPS, Multiplayer, Acti...</td>\n",
       "    </tr>\n",
       "    <tr>\n",
       "      <th>1</th>\n",
       "      <td>13500</td>\n",
       "      <td>Prince of Persia: Warrior Within™</td>\n",
       "      <td>2008-11-21</td>\n",
       "      <td>True</td>\n",
       "      <td>False</td>\n",
       "      <td>False</td>\n",
       "      <td>Very Positive</td>\n",
       "      <td>84</td>\n",
       "      <td>2199</td>\n",
       "      <td>9.99</td>\n",
       "      <td>9.99</td>\n",
       "      <td>0.0</td>\n",
       "      <td>True</td>\n",
       "      <td>Enter the dark underworld of Prince of Persia ...</td>\n",
       "      <td>[Action, Adventure, Parkour, Third Person, Gre...</td>\n",
       "    </tr>\n",
       "    <tr>\n",
       "      <th>2</th>\n",
       "      <td>22364</td>\n",
       "      <td>BRINK: Agents of Change</td>\n",
       "      <td>2011-08-03</td>\n",
       "      <td>True</td>\n",
       "      <td>False</td>\n",
       "      <td>False</td>\n",
       "      <td>Positive</td>\n",
       "      <td>85</td>\n",
       "      <td>21</td>\n",
       "      <td>2.99</td>\n",
       "      <td>2.99</td>\n",
       "      <td>0.0</td>\n",
       "      <td>True</td>\n",
       "      <td></td>\n",
       "      <td>[Action]</td>\n",
       "    </tr>\n",
       "    <tr>\n",
       "      <th>3</th>\n",
       "      <td>113020</td>\n",
       "      <td>Monaco: What's Yours Is Mine</td>\n",
       "      <td>2013-04-24</td>\n",
       "      <td>True</td>\n",
       "      <td>True</td>\n",
       "      <td>True</td>\n",
       "      <td>Very Positive</td>\n",
       "      <td>92</td>\n",
       "      <td>3722</td>\n",
       "      <td>14.99</td>\n",
       "      <td>14.99</td>\n",
       "      <td>0.0</td>\n",
       "      <td>True</td>\n",
       "      <td>Monaco: What's Yours Is Mine is a single playe...</td>\n",
       "      <td>[Co-op, Stealth, Indie, Heist, Local Co-Op, St...</td>\n",
       "    </tr>\n",
       "    <tr>\n",
       "      <th>4</th>\n",
       "      <td>226560</td>\n",
       "      <td>Escape Dead Island</td>\n",
       "      <td>2014-11-18</td>\n",
       "      <td>True</td>\n",
       "      <td>False</td>\n",
       "      <td>False</td>\n",
       "      <td>Mixed</td>\n",
       "      <td>61</td>\n",
       "      <td>873</td>\n",
       "      <td>14.99</td>\n",
       "      <td>14.99</td>\n",
       "      <td>0.0</td>\n",
       "      <td>True</td>\n",
       "      <td>Escape Dead Island is a Survival-Mystery adven...</td>\n",
       "      <td>[Zombies, Adventure, Survival, Action, Third P...</td>\n",
       "    </tr>\n",
       "    <tr>\n",
       "      <th>...</th>\n",
       "      <td>...</td>\n",
       "      <td>...</td>\n",
       "      <td>...</td>\n",
       "      <td>...</td>\n",
       "      <td>...</td>\n",
       "      <td>...</td>\n",
       "      <td>...</td>\n",
       "      <td>...</td>\n",
       "      <td>...</td>\n",
       "      <td>...</td>\n",
       "      <td>...</td>\n",
       "      <td>...</td>\n",
       "      <td>...</td>\n",
       "      <td>...</td>\n",
       "      <td>...</td>\n",
       "    </tr>\n",
       "    <tr>\n",
       "      <th>48313</th>\n",
       "      <td>1803600</td>\n",
       "      <td>Gone Rogue</td>\n",
       "      <td>2023-03-01</td>\n",
       "      <td>True</td>\n",
       "      <td>False</td>\n",
       "      <td>False</td>\n",
       "      <td>Very Positive</td>\n",
       "      <td>96</td>\n",
       "      <td>65</td>\n",
       "      <td>12.49</td>\n",
       "      <td>12.49</td>\n",
       "      <td>0.0</td>\n",
       "      <td>True</td>\n",
       "      <td>Gone Rogue is a tactical stealth game with RPG...</td>\n",
       "      <td>[Stealth, Action, Real Time Tactics, Isometric...</td>\n",
       "    </tr>\n",
       "    <tr>\n",
       "      <th>48314</th>\n",
       "      <td>1811990</td>\n",
       "      <td>Wildfrost</td>\n",
       "      <td>2023-04-12</td>\n",
       "      <td>True</td>\n",
       "      <td>False</td>\n",
       "      <td>False</td>\n",
       "      <td>Mixed</td>\n",
       "      <td>64</td>\n",
       "      <td>1819</td>\n",
       "      <td>19.99</td>\n",
       "      <td>19.99</td>\n",
       "      <td>0.0</td>\n",
       "      <td>True</td>\n",
       "      <td>Take on the elements in Wildfrost, a tactical ...</td>\n",
       "      <td>[Card Battler, Difficult, Roguelike Deckbuilde...</td>\n",
       "    </tr>\n",
       "    <tr>\n",
       "      <th>48315</th>\n",
       "      <td>1868120</td>\n",
       "      <td>BLACK ACE</td>\n",
       "      <td>2022-02-03</td>\n",
       "      <td>True</td>\n",
       "      <td>False</td>\n",
       "      <td>False</td>\n",
       "      <td>Mixed</td>\n",
       "      <td>44</td>\n",
       "      <td>76</td>\n",
       "      <td>0.00</td>\n",
       "      <td>0.00</td>\n",
       "      <td>0.0</td>\n",
       "      <td>True</td>\n",
       "      <td>Competitive multiplayer match with vehicles an...</td>\n",
       "      <td>[FPS, Third-Person Shooter, Multiplayer, Shoot...</td>\n",
       "    </tr>\n",
       "    <tr>\n",
       "      <th>48316</th>\n",
       "      <td>2206390</td>\n",
       "      <td>BandRoll</td>\n",
       "      <td>2023-04-14</td>\n",
       "      <td>True</td>\n",
       "      <td>False</td>\n",
       "      <td>False</td>\n",
       "      <td>Positive</td>\n",
       "      <td>96</td>\n",
       "      <td>26</td>\n",
       "      <td>1.59</td>\n",
       "      <td>1.99</td>\n",
       "      <td>20.0</td>\n",
       "      <td>True</td>\n",
       "      <td>Feel the Neon in Your Bones! How would you lik...</td>\n",
       "      <td>[3D Platformer, Rhythm, Parkour, 3D, Atmospher...</td>\n",
       "    </tr>\n",
       "    <tr>\n",
       "      <th>48317</th>\n",
       "      <td>2330750</td>\n",
       "      <td>Cataclysm: Dark Days Ahead</td>\n",
       "      <td>2023-03-31</td>\n",
       "      <td>True</td>\n",
       "      <td>False</td>\n",
       "      <td>True</td>\n",
       "      <td>Very Positive</td>\n",
       "      <td>93</td>\n",
       "      <td>130</td>\n",
       "      <td>19.99</td>\n",
       "      <td>19.99</td>\n",
       "      <td>0.0</td>\n",
       "      <td>True</td>\n",
       "      <td>The epitome of a modern traditional roguelike:...</td>\n",
       "      <td>[Traditional Roguelike, Sandbox, RPG, Zombies,...</td>\n",
       "    </tr>\n",
       "  </tbody>\n",
       "</table>\n",
       "<p>48318 rows × 15 columns</p>\n",
       "</div>"
      ],
      "text/plain": [
       "        app_id                              title date_release   win    mac  \\\n",
       "0        10090         Call of Duty: World at War   2008-11-18  True  False   \n",
       "1        13500  Prince of Persia: Warrior Within™   2008-11-21  True  False   \n",
       "2        22364            BRINK: Agents of Change   2011-08-03  True  False   \n",
       "3       113020       Monaco: What's Yours Is Mine   2013-04-24  True   True   \n",
       "4       226560                 Escape Dead Island   2014-11-18  True  False   \n",
       "...        ...                                ...          ...   ...    ...   \n",
       "48313  1803600                         Gone Rogue   2023-03-01  True  False   \n",
       "48314  1811990                          Wildfrost   2023-04-12  True  False   \n",
       "48315  1868120                          BLACK ACE   2022-02-03  True  False   \n",
       "48316  2206390                           BandRoll   2023-04-14  True  False   \n",
       "48317  2330750         Cataclysm: Dark Days Ahead   2023-03-31  True  False   \n",
       "\n",
       "       linux         rating  positive_ratio  user_reviews  price_final  \\\n",
       "0      False  Very Positive              92         37039        19.99   \n",
       "1      False  Very Positive              84          2199         9.99   \n",
       "2      False       Positive              85            21         2.99   \n",
       "3       True  Very Positive              92          3722        14.99   \n",
       "4      False          Mixed              61           873        14.99   \n",
       "...      ...            ...             ...           ...          ...   \n",
       "48313  False  Very Positive              96            65        12.49   \n",
       "48314  False          Mixed              64          1819        19.99   \n",
       "48315  False          Mixed              44            76         0.00   \n",
       "48316  False       Positive              96            26         1.59   \n",
       "48317   True  Very Positive              93           130        19.99   \n",
       "\n",
       "       price_original  discount  steam_deck  \\\n",
       "0               19.99       0.0        True   \n",
       "1                9.99       0.0        True   \n",
       "2                2.99       0.0        True   \n",
       "3               14.99       0.0        True   \n",
       "4               14.99       0.0        True   \n",
       "...               ...       ...         ...   \n",
       "48313           12.49       0.0        True   \n",
       "48314           19.99       0.0        True   \n",
       "48315            0.00       0.0        True   \n",
       "48316            1.99      20.0        True   \n",
       "48317           19.99       0.0        True   \n",
       "\n",
       "                                             description  \\\n",
       "0      Call of Duty is back, redefining war like you'...   \n",
       "1      Enter the dark underworld of Prince of Persia ...   \n",
       "2                                                          \n",
       "3      Monaco: What's Yours Is Mine is a single playe...   \n",
       "4      Escape Dead Island is a Survival-Mystery adven...   \n",
       "...                                                  ...   \n",
       "48313  Gone Rogue is a tactical stealth game with RPG...   \n",
       "48314  Take on the elements in Wildfrost, a tactical ...   \n",
       "48315  Competitive multiplayer match with vehicles an...   \n",
       "48316  Feel the Neon in Your Bones! How would you lik...   \n",
       "48317  The epitome of a modern traditional roguelike:...   \n",
       "\n",
       "                                                    tags  \n",
       "0      [Zombies, World War II, FPS, Multiplayer, Acti...  \n",
       "1      [Action, Adventure, Parkour, Third Person, Gre...  \n",
       "2                                               [Action]  \n",
       "3      [Co-op, Stealth, Indie, Heist, Local Co-Op, St...  \n",
       "4      [Zombies, Adventure, Survival, Action, Third P...  \n",
       "...                                                  ...  \n",
       "48313  [Stealth, Action, Real Time Tactics, Isometric...  \n",
       "48314  [Card Battler, Difficult, Roguelike Deckbuilde...  \n",
       "48315  [FPS, Third-Person Shooter, Multiplayer, Shoot...  \n",
       "48316  [3D Platformer, Rhythm, Parkour, 3D, Atmospher...  \n",
       "48317  [Traditional Roguelike, Sandbox, RPG, Zombies,...  \n",
       "\n",
       "[48318 rows x 15 columns]"
      ]
     },
     "execution_count": 4,
     "metadata": {},
     "output_type": "execute_result"
    }
   ],
   "source": [
    "df_games = pd.merge(games, games_metadata, how='left', on='app_id')\n",
    "df_games"
   ]
  },
  {
   "cell_type": "code",
   "execution_count": 5,
   "metadata": {},
   "outputs": [
    {
     "data": {
      "text/plain": [
       "0                  Zombies\n",
       "1             World War II\n",
       "2                      FPS\n",
       "3              Multiplayer\n",
       "4                   Action\n",
       "                ...       \n",
       "566945        Singleplayer\n",
       "566946       Immersive Sim\n",
       "566947          Story Rich\n",
       "566948    Post-apocalyptic\n",
       "566949       Transhumanism\n",
       "Name: tags, Length: 566950, dtype: object"
      ]
     },
     "execution_count": 5,
     "metadata": {},
     "output_type": "execute_result"
    }
   ],
   "source": [
    "games_feature_list = df_games.explode('tags', ignore_index=True)['tags']\n",
    "games_feature_list"
   ]
  },
  {
   "cell_type": "code",
   "execution_count": 9,
   "metadata": {},
   "outputs": [],
   "source": [
    "user_app_ratings = pd.merge(df_users, recommendations, how=\"inner\", on=[\"user_id\"])\n",
    "user_app_ratings['app_id'].nunique()"
   ]
  },
  {
   "cell_type": "code",
   "execution_count": 10,
   "metadata": {},
   "outputs": [
    {
     "data": {
      "text/html": [
       "<div>\n",
       "<style scoped>\n",
       "    .dataframe tbody tr th:only-of-type {\n",
       "        vertical-align: middle;\n",
       "    }\n",
       "\n",
       "    .dataframe tbody tr th {\n",
       "        vertical-align: top;\n",
       "    }\n",
       "\n",
       "    .dataframe thead th {\n",
       "        text-align: right;\n",
       "    }\n",
       "</style>\n",
       "<table border=\"1\" class=\"dataframe\">\n",
       "  <thead>\n",
       "    <tr style=\"text-align: right;\">\n",
       "      <th></th>\n",
       "      <th>user_id</th>\n",
       "      <th>app_id</th>\n",
       "      <th>is_recommended</th>\n",
       "    </tr>\n",
       "  </thead>\n",
       "  <tbody>\n",
       "    <tr>\n",
       "      <th>83525</th>\n",
       "      <td>464</td>\n",
       "      <td>323320</td>\n",
       "      <td>1</td>\n",
       "    </tr>\n",
       "    <tr>\n",
       "      <th>83515</th>\n",
       "      <td>464</td>\n",
       "      <td>254700</td>\n",
       "      <td>1</td>\n",
       "    </tr>\n",
       "    <tr>\n",
       "      <th>83516</th>\n",
       "      <td>464</td>\n",
       "      <td>35450</td>\n",
       "      <td>1</td>\n",
       "    </tr>\n",
       "    <tr>\n",
       "      <th>83517</th>\n",
       "      <td>464</td>\n",
       "      <td>250400</td>\n",
       "      <td>1</td>\n",
       "    </tr>\n",
       "    <tr>\n",
       "      <th>83518</th>\n",
       "      <td>464</td>\n",
       "      <td>46510</td>\n",
       "      <td>1</td>\n",
       "    </tr>\n",
       "    <tr>\n",
       "      <th>...</th>\n",
       "      <td>...</td>\n",
       "      <td>...</td>\n",
       "      <td>...</td>\n",
       "    </tr>\n",
       "    <tr>\n",
       "      <th>88609</th>\n",
       "      <td>6167506</td>\n",
       "      <td>250900</td>\n",
       "      <td>1</td>\n",
       "    </tr>\n",
       "    <tr>\n",
       "      <th>88610</th>\n",
       "      <td>6167506</td>\n",
       "      <td>823500</td>\n",
       "      <td>1</td>\n",
       "    </tr>\n",
       "    <tr>\n",
       "      <th>88611</th>\n",
       "      <td>6167506</td>\n",
       "      <td>881100</td>\n",
       "      <td>1</td>\n",
       "    </tr>\n",
       "    <tr>\n",
       "      <th>88604</th>\n",
       "      <td>6167506</td>\n",
       "      <td>1229490</td>\n",
       "      <td>1</td>\n",
       "    </tr>\n",
       "    <tr>\n",
       "      <th>88594</th>\n",
       "      <td>6167506</td>\n",
       "      <td>976730</td>\n",
       "      <td>1</td>\n",
       "    </tr>\n",
       "  </tbody>\n",
       "</table>\n",
       "<p>429433 rows × 3 columns</p>\n",
       "</div>"
      ],
      "text/plain": [
       "       user_id   app_id  is_recommended\n",
       "83525      464   323320               1\n",
       "83515      464   254700               1\n",
       "83516      464    35450               1\n",
       "83517      464   250400               1\n",
       "83518      464    46510               1\n",
       "...        ...      ...             ...\n",
       "88609  6167506   250900               1\n",
       "88610  6167506   823500               1\n",
       "88611  6167506   881100               1\n",
       "88604  6167506  1229490               1\n",
       "88594  6167506   976730               1\n",
       "\n",
       "[429433 rows x 3 columns]"
      ]
     },
     "execution_count": 10,
     "metadata": {},
     "output_type": "execute_result"
    }
   ],
   "source": [
    "user_app_ratings = user_app_ratings.drop(columns=['reviews', 'products', 'helpful', 'funny', 'date', 'hours', 'review_id'])\n",
    "user_app_ratings['is_recommended'] = user_app_ratings['is_recommended'].map({False: -1, True: 1})\n",
    "user_app_ratings = user_app_ratings.sort_values('user_id')\n",
    "user_app_ratings"
   ]
  },
  {
   "cell_type": "code",
   "execution_count": 54,
   "metadata": {},
   "outputs": [],
   "source": [
    "unique_users = user_app_ratings['user_id'].to_list()"
   ]
  },
  {
   "cell_type": "code",
   "execution_count": 72,
   "metadata": {},
   "outputs": [],
   "source": [
    "from sklearn.model_selection import train_test_split\n",
    "\n",
    "def generate_train_set(df, n):\n",
    "    unique_users = df['user_id'].to_list()\n",
    "    lst = list(dict.fromkeys(unique_users))\n",
    "    train_set = pd.DataFrame()\n",
    "    test_set = pd.DataFrame()\n",
    "\n",
    "    for i in lst:\n",
    "        train, test = train_test_split(df.query('user_id == ' + str(i)), test_size=n)\n",
    "        train_set = pd.concat([train_set, train], axis=0)\n",
    "        test_set = pd.concat([test_set, test], axis=0)\n",
    "\n",
    "\n",
    "    return train_set, test_set"
   ]
  },
  {
   "cell_type": "code",
   "execution_count": 73,
   "metadata": {},
   "outputs": [
    {
     "data": {
      "text/html": [
       "<div>\n",
       "<style scoped>\n",
       "    .dataframe tbody tr th:only-of-type {\n",
       "        vertical-align: middle;\n",
       "    }\n",
       "\n",
       "    .dataframe tbody tr th {\n",
       "        vertical-align: top;\n",
       "    }\n",
       "\n",
       "    .dataframe thead th {\n",
       "        text-align: right;\n",
       "    }\n",
       "</style>\n",
       "<table border=\"1\" class=\"dataframe\">\n",
       "  <thead>\n",
       "    <tr style=\"text-align: right;\">\n",
       "      <th></th>\n",
       "      <th>user_id</th>\n",
       "      <th>app_id</th>\n",
       "      <th>is_recommended</th>\n",
       "    </tr>\n",
       "  </thead>\n",
       "  <tbody>\n",
       "    <tr>\n",
       "      <th>83521</th>\n",
       "      <td>464</td>\n",
       "      <td>314070</td>\n",
       "      <td>1</td>\n",
       "    </tr>\n",
       "    <tr>\n",
       "      <th>83530</th>\n",
       "      <td>464</td>\n",
       "      <td>22200</td>\n",
       "      <td>1</td>\n",
       "    </tr>\n",
       "    <tr>\n",
       "      <th>83522</th>\n",
       "      <td>464</td>\n",
       "      <td>50300</td>\n",
       "      <td>1</td>\n",
       "    </tr>\n",
       "    <tr>\n",
       "      <th>83508</th>\n",
       "      <td>464</td>\n",
       "      <td>204100</td>\n",
       "      <td>1</td>\n",
       "    </tr>\n",
       "    <tr>\n",
       "      <th>83518</th>\n",
       "      <td>464</td>\n",
       "      <td>46510</td>\n",
       "      <td>1</td>\n",
       "    </tr>\n",
       "    <tr>\n",
       "      <th>...</th>\n",
       "      <td>...</td>\n",
       "      <td>...</td>\n",
       "      <td>...</td>\n",
       "    </tr>\n",
       "    <tr>\n",
       "      <th>88604</th>\n",
       "      <td>6167506</td>\n",
       "      <td>1229490</td>\n",
       "      <td>1</td>\n",
       "    </tr>\n",
       "    <tr>\n",
       "      <th>88601</th>\n",
       "      <td>6167506</td>\n",
       "      <td>107410</td>\n",
       "      <td>1</td>\n",
       "    </tr>\n",
       "    <tr>\n",
       "      <th>88610</th>\n",
       "      <td>6167506</td>\n",
       "      <td>823500</td>\n",
       "      <td>1</td>\n",
       "    </tr>\n",
       "    <tr>\n",
       "      <th>88600</th>\n",
       "      <td>6167506</td>\n",
       "      <td>620980</td>\n",
       "      <td>1</td>\n",
       "    </tr>\n",
       "    <tr>\n",
       "      <th>88594</th>\n",
       "      <td>6167506</td>\n",
       "      <td>976730</td>\n",
       "      <td>1</td>\n",
       "    </tr>\n",
       "  </tbody>\n",
       "</table>\n",
       "<p>316598 rows × 3 columns</p>\n",
       "</div>"
      ],
      "text/plain": [
       "       user_id   app_id  is_recommended\n",
       "83521      464   314070               1\n",
       "83530      464    22200               1\n",
       "83522      464    50300               1\n",
       "83508      464   204100               1\n",
       "83518      464    46510               1\n",
       "...        ...      ...             ...\n",
       "88604  6167506  1229490               1\n",
       "88601  6167506   107410               1\n",
       "88610  6167506   823500               1\n",
       "88600  6167506   620980               1\n",
       "88594  6167506   976730               1\n",
       "\n",
       "[316598 rows x 3 columns]"
      ]
     },
     "execution_count": 73,
     "metadata": {},
     "output_type": "execute_result"
    }
   ],
   "source": [
    "new_train_set, new_test_set = generate_train_set(user_app_ratings, 0.25)\n",
    "new_train_set"
   ]
  },
  {
   "cell_type": "code",
   "execution_count": 29,
   "metadata": {},
   "outputs": [],
   "source": [
    "#Create Dataset\n",
    "from lightfm.data import Dataset\n",
    "\n",
    "dataset = Dataset()\n",
    "dataset.fit((user_app_ratings['user_id']), (user_app_ratings['app_id']))"
   ]
  },
  {
   "cell_type": "code",
   "execution_count": 31,
   "metadata": {},
   "outputs": [
    {
     "data": {
      "text/plain": [
       "(14956, 1799)"
      ]
     },
     "execution_count": 31,
     "metadata": {},
     "output_type": "execute_result"
    }
   ],
   "source": [
    "dataset.interactions_shape()"
   ]
  },
  {
   "cell_type": "code",
   "execution_count": 32,
   "metadata": {},
   "outputs": [],
   "source": [
    "mapping = dataset.mapping()"
   ]
  },
  {
   "cell_type": "code",
   "execution_count": 33,
   "metadata": {},
   "outputs": [
    {
     "data": {
      "text/html": [
       "<div>\n",
       "<style scoped>\n",
       "    .dataframe tbody tr th:only-of-type {\n",
       "        vertical-align: middle;\n",
       "    }\n",
       "\n",
       "    .dataframe tbody tr th {\n",
       "        vertical-align: top;\n",
       "    }\n",
       "\n",
       "    .dataframe thead th {\n",
       "        text-align: right;\n",
       "    }\n",
       "</style>\n",
       "<table border=\"1\" class=\"dataframe\">\n",
       "  <thead>\n",
       "    <tr style=\"text-align: right;\">\n",
       "      <th></th>\n",
       "      <th>user_id</th>\n",
       "      <th>app_id</th>\n",
       "      <th>is_recommended</th>\n",
       "      <th>description</th>\n",
       "      <th>tags</th>\n",
       "    </tr>\n",
       "  </thead>\n",
       "  <tbody>\n",
       "    <tr>\n",
       "      <th>0</th>\n",
       "      <td>464</td>\n",
       "      <td>323320</td>\n",
       "      <td>1</td>\n",
       "      <td>Experience the freedom of unbounded climbing a...</td>\n",
       "      <td>[Open World, Adventure, Singleplayer, Explorat...</td>\n",
       "    </tr>\n",
       "    <tr>\n",
       "      <th>1</th>\n",
       "      <td>464</td>\n",
       "      <td>254700</td>\n",
       "      <td>1</td>\n",
       "      <td>(Release: 2014) Special agent Leon S. Kennedy ...</td>\n",
       "      <td>[Inventory Management, Survival Horror, Action...</td>\n",
       "    </tr>\n",
       "    <tr>\n",
       "      <th>2</th>\n",
       "      <td>464</td>\n",
       "      <td>35450</td>\n",
       "      <td>1</td>\n",
       "      <td>Contains full Rising Storm content as well!</td>\n",
       "      <td>[Realistic, World War II, FPS, Multiplayer, Hi...</td>\n",
       "    </tr>\n",
       "    <tr>\n",
       "      <th>3</th>\n",
       "      <td>464</td>\n",
       "      <td>250400</td>\n",
       "      <td>1</td>\n",
       "      <td>“A real Gem” – Destructoid at E3 “Offers a dif...</td>\n",
       "      <td>[Survival, Zombies, Crafting, Open World Survi...</td>\n",
       "    </tr>\n",
       "    <tr>\n",
       "      <th>4</th>\n",
       "      <td>464</td>\n",
       "      <td>46510</td>\n",
       "      <td>1</td>\n",
       "      <td>Having searched Eastern and Western Europe for...</td>\n",
       "      <td>[Adventure, Point &amp; Click, Puzzle, Female Prot...</td>\n",
       "    </tr>\n",
       "    <tr>\n",
       "      <th>...</th>\n",
       "      <td>...</td>\n",
       "      <td>...</td>\n",
       "      <td>...</td>\n",
       "      <td>...</td>\n",
       "      <td>...</td>\n",
       "    </tr>\n",
       "    <tr>\n",
       "      <th>429428</th>\n",
       "      <td>6167506</td>\n",
       "      <td>250900</td>\n",
       "      <td>1</td>\n",
       "      <td>The Binding of Isaac: Rebirth is a randomly ge...</td>\n",
       "      <td>[Action Roguelike, Roguelike, Indie, Replay Va...</td>\n",
       "    </tr>\n",
       "    <tr>\n",
       "      <th>429429</th>\n",
       "      <td>6167506</td>\n",
       "      <td>823500</td>\n",
       "      <td>1</td>\n",
       "      <td>BONEWORKS is an Experimental Physics VR Advent...</td>\n",
       "      <td>[VR, Physics, Action, Sandbox, Shooter, Single...</td>\n",
       "    </tr>\n",
       "    <tr>\n",
       "      <th>429430</th>\n",
       "      <td>6167506</td>\n",
       "      <td>881100</td>\n",
       "      <td>1</td>\n",
       "      <td>Noita is a magical action roguelite set in a w...</td>\n",
       "      <td>[Physics, Difficult, Roguelike, Pixel Graphics...</td>\n",
       "    </tr>\n",
       "    <tr>\n",
       "      <th>429431</th>\n",
       "      <td>6167506</td>\n",
       "      <td>1229490</td>\n",
       "      <td>1</td>\n",
       "      <td>ULTRAKILL is a fast-paced ultraviolent retro F...</td>\n",
       "      <td>[Early Access, FPS, Arena Shooter, Spectacle f...</td>\n",
       "    </tr>\n",
       "    <tr>\n",
       "      <th>429432</th>\n",
       "      <td>6167506</td>\n",
       "      <td>976730</td>\n",
       "      <td>1</td>\n",
       "      <td>The Master Chief’s iconic journey includes six...</td>\n",
       "      <td>[Great Soundtrack, FPS, Classic, Multiplayer, ...</td>\n",
       "    </tr>\n",
       "  </tbody>\n",
       "</table>\n",
       "<p>429433 rows × 5 columns</p>\n",
       "</div>"
      ],
      "text/plain": [
       "        user_id   app_id  is_recommended  \\\n",
       "0           464   323320               1   \n",
       "1           464   254700               1   \n",
       "2           464    35450               1   \n",
       "3           464   250400               1   \n",
       "4           464    46510               1   \n",
       "...         ...      ...             ...   \n",
       "429428  6167506   250900               1   \n",
       "429429  6167506   823500               1   \n",
       "429430  6167506   881100               1   \n",
       "429431  6167506  1229490               1   \n",
       "429432  6167506   976730               1   \n",
       "\n",
       "                                              description  \\\n",
       "0       Experience the freedom of unbounded climbing a...   \n",
       "1       (Release: 2014) Special agent Leon S. Kennedy ...   \n",
       "2             Contains full Rising Storm content as well!   \n",
       "3       “A real Gem” – Destructoid at E3 “Offers a dif...   \n",
       "4       Having searched Eastern and Western Europe for...   \n",
       "...                                                   ...   \n",
       "429428  The Binding of Isaac: Rebirth is a randomly ge...   \n",
       "429429  BONEWORKS is an Experimental Physics VR Advent...   \n",
       "429430  Noita is a magical action roguelite set in a w...   \n",
       "429431  ULTRAKILL is a fast-paced ultraviolent retro F...   \n",
       "429432  The Master Chief’s iconic journey includes six...   \n",
       "\n",
       "                                                     tags  \n",
       "0       [Open World, Adventure, Singleplayer, Explorat...  \n",
       "1       [Inventory Management, Survival Horror, Action...  \n",
       "2       [Realistic, World War II, FPS, Multiplayer, Hi...  \n",
       "3       [Survival, Zombies, Crafting, Open World Survi...  \n",
       "4       [Adventure, Point & Click, Puzzle, Female Prot...  \n",
       "...                                                   ...  \n",
       "429428  [Action Roguelike, Roguelike, Indie, Replay Va...  \n",
       "429429  [VR, Physics, Action, Sandbox, Shooter, Single...  \n",
       "429430  [Physics, Difficult, Roguelike, Pixel Graphics...  \n",
       "429431  [Early Access, FPS, Arena Shooter, Spectacle f...  \n",
       "429432  [Great Soundtrack, FPS, Classic, Multiplayer, ...  \n",
       "\n",
       "[429433 rows x 5 columns]"
      ]
     },
     "execution_count": 33,
     "metadata": {},
     "output_type": "execute_result"
    }
   ],
   "source": [
    "game_tags = pd.merge(user_app_ratings, games_metadata, how='left', on='app_id')\n",
    "game_tags"
   ]
  },
  {
   "cell_type": "code",
   "execution_count": 34,
   "metadata": {},
   "outputs": [],
   "source": [
    "game_tags_exploded = game_tags.explode('tags', ignore_index=True)"
   ]
  },
  {
   "cell_type": "code",
   "execution_count": 35,
   "metadata": {},
   "outputs": [],
   "source": [
    "dataset.fit_partial(items=game_tags_exploded['app_id'], item_features=game_tags_exploded['tags'])"
   ]
  },
  {
   "cell_type": "code",
   "execution_count": 20,
   "metadata": {},
   "outputs": [],
   "source": [
    "games_exploded = df_games.explode('tags', ignore_index=True)\n",
    "dataset.fit_partial(items=games_exploded['app_id'], item_features=games_exploded['tags'])"
   ]
  },
  {
   "cell_type": "code",
   "execution_count": 37,
   "metadata": {},
   "outputs": [],
   "source": [
    "ls = list(zip(user_app_ratings.user_id, user_app_ratings.app_id, user_app_ratings.is_recommended))"
   ]
  },
  {
   "cell_type": "code",
   "execution_count": 38,
   "metadata": {},
   "outputs": [
    {
     "name": "stdout",
     "output_type": "stream",
     "text": [
      "<14956x1799 sparse matrix of type '<class 'numpy.int32'>'\n",
      "\twith 429433 stored elements in COOrdinate format>\n"
     ]
    }
   ],
   "source": [
    "(interactions1, weights1) = dataset.build_interactions(ls)\n",
    "print(repr(interactions1))"
   ]
  },
  {
   "cell_type": "code",
   "execution_count": 39,
   "metadata": {},
   "outputs": [
    {
     "name": "stdout",
     "output_type": "stream",
     "text": [
      "<1799x2223 sparse matrix of type '<class 'numpy.float32'>'\n",
      "\twith 34169 stored elements in Compressed Sparse Row format>\n"
     ]
    }
   ],
   "source": [
    "item_feature_list = list(zip(game_tags.app_id, game_tags.tags))\n",
    "item_features = dataset.build_item_features(item_feature_list)\n",
    "print(repr(item_features))"
   ]
  },
  {
   "cell_type": "code",
   "execution_count": 42,
   "metadata": {},
   "outputs": [
    {
     "name": "stderr",
     "output_type": "stream",
     "text": [
      "Epoch: 100%|██████████| 50/50 [03:04<00:00,  3.68s/it]\n"
     ]
    }
   ],
   "source": [
    "from lightfm.evaluation import auc_score, precision_at_k, recall_at_k, reciprocal_rank\n",
    "\n",
    "model_t = LightFM(loss='warp', random_state=42, learning_rate=0.25, no_components=150)\n",
    "model_t = model_t.fit(interactions1, item_features=item_features, # sample_weight=weights_train,  \n",
    "                  epochs=50,\n",
    "                  num_threads=2, verbose=True)"
   ]
  },
  {
   "cell_type": "code",
   "execution_count": 43,
   "metadata": {},
   "outputs": [
    {
     "name": "stdout",
     "output_type": "stream",
     "text": [
      "Train Precision MAP@5: 0.88\n"
     ]
    }
   ],
   "source": [
    "print(\"Train Precision MAP@5: %.2f\" % precision_at_k(model_t, interactions1, item_features=item_features, k=5).mean())"
   ]
  },
  {
   "attachments": {},
   "cell_type": "markdown",
   "metadata": {},
   "source": [
    "# -----------------------------------------\n",
    "\n",
    "Create new Dataset and interaction matrix with train and testsplit"
   ]
  },
  {
   "cell_type": "code",
   "execution_count": 80,
   "metadata": {},
   "outputs": [
    {
     "name": "stdout",
     "output_type": "stream",
     "text": [
      "<14956x1799 sparse matrix of type '<class 'numpy.int32'>'\n",
      "\twith 316598 stored elements in COOrdinate format>\n"
     ]
    }
   ],
   "source": [
    "#Create Dataset\n",
    "from lightfm.data import Dataset\n",
    "\n",
    "dataset2 = Dataset()\n",
    "dataset2.fit((user_app_ratings['user_id']), (user_app_ratings['app_id']))\n",
    "\n",
    "ls_new_train_set = list(zip(new_train_set.user_id, new_train_set.app_id, new_train_set.is_recommended))\n",
    "(interactions_new_train, weights) = dataset2.build_interactions(ls_new_train_set)\n",
    "print(repr(interactions_new_train))"
   ]
  },
  {
   "cell_type": "code",
   "execution_count": 82,
   "metadata": {},
   "outputs": [
    {
     "name": "stdout",
     "output_type": "stream",
     "text": [
      "<1799x2223 sparse matrix of type '<class 'numpy.float32'>'\n",
      "\twith 34169 stored elements in Compressed Sparse Row format>\n"
     ]
    }
   ],
   "source": [
    "dataset2.fit_partial(items=game_tags_exploded['app_id'], item_features=game_tags_exploded['tags'])\n",
    "item_feature_list2 = list(zip(game_tags.app_id, game_tags.tags))\n",
    "item_features2 = dataset2.build_item_features(item_feature_list2)\n",
    "print(repr(item_features2))"
   ]
  },
  {
   "cell_type": "code",
   "execution_count": 83,
   "metadata": {},
   "outputs": [
    {
     "name": "stderr",
     "output_type": "stream",
     "text": [
      "Epoch: 100%|██████████| 50/50 [02:08<00:00,  2.58s/it]\n"
     ]
    }
   ],
   "source": [
    "# train model on train data\n",
    "model_t3 = LightFM(loss='warp', random_state=42, learning_rate=0.25, no_components=150)\n",
    "model_t3 = model_t.fit(interactions_new_train, item_features=item_features2, # sample_weight=weights_train,  \n",
    "                  epochs=50,\n",
    "                  num_threads=2, verbose=True)"
   ]
  },
  {
   "cell_type": "code",
   "execution_count": 104,
   "metadata": {},
   "outputs": [
    {
     "name": "stdout",
     "output_type": "stream",
     "text": [
      "Train Precision MAP@5: 0.89\n"
     ]
    }
   ],
   "source": [
    "print(\"Train Precision MAP@5: %.2f\" % precision_at_k(model_t3, interactions_new_train, item_features=item_features2, k=5).mean())"
   ]
  },
  {
   "cell_type": "code",
   "execution_count": 85,
   "metadata": {},
   "outputs": [],
   "source": [
    "ls_new_test_set = list(zip(new_test_set.user_id, new_test_set.app_id, new_test_set.is_recommended))\n",
    "(interactions_new_test, weights) = dataset2.build_interactions(ls_new_test_set)"
   ]
  },
  {
   "cell_type": "code",
   "execution_count": 105,
   "metadata": {},
   "outputs": [
    {
     "name": "stdout",
     "output_type": "stream",
     "text": [
      "Train Precision MAP@5: 0.06\n"
     ]
    }
   ],
   "source": [
    "print(\"Test Precision MAP@5: %.2f\" % precision_at_k(model_t3, interactions_new_test, train_interactions=interactions_new_train, item_features=item_features2, k=5).mean())"
   ]
  },
  {
   "cell_type": "code",
   "execution_count": 90,
   "metadata": {},
   "outputs": [],
   "source": [
    "mapping2 = dataset2.mapping()"
   ]
  },
  {
   "cell_type": "code",
   "execution_count": 225,
   "metadata": {},
   "outputs": [],
   "source": [
    "index_item_id_mapping =  {v: k for k, v in mapping2[2].items()}\n",
    "index_user_id_mapping =  {v: k for k, v in mapping2[0].items()}"
   ]
  },
  {
   "cell_type": "code",
   "execution_count": 385,
   "metadata": {},
   "outputs": [],
   "source": [
    "from sklearn.metrics import precision_score, recall_score, f1_score, accuracy_score\n",
    "\n",
    "def precision_recall_f1(model, dataset, interactions, item_features, threshold = 0):\n",
    "\n",
    "    precisions = dict()\n",
    "    recalls = dict()\n",
    "    f1s = dict()\n",
    "    accuracies = dict()\n",
    "\n",
    "    mapping = dataset.mapping()         \n",
    "    index_user_id_mapping =  {v: k for k, v in mapping[0].items()}\n",
    "    index_item_id_mapping =  {v: k for k, v in mapping[2].items()}\n",
    "    n_users, n_items = interactions.shape\n",
    "\n",
    "    for user in range(n_users):\n",
    "\n",
    "        relevant = new_test_set[new_test_set['user_id'] == index_user_id_mapping[user]]\n",
    "        #print(relevant)\n",
    "        scores = pd.Series(model.predict(user,np.arange(n_items), item_features=item_features))\n",
    "        scores = (scores - scores.min()) / (scores.max() - scores.min()) \n",
    "\n",
    "        scores_df = pd.DataFrame({'index':scores.index, 'scores': scores.values}) \n",
    "        scores_df['app_id'] = scores_df['index'].map(index_item_id_mapping)\n",
    "        merged = pd.merge(relevant, scores_df, how=\"left\", on=[\"app_id\"])\n",
    "\n",
    "        y_true = [1 if s==1 else 0 for s in list(merged['is_recommended'])]\n",
    "        y_pred = [1 if s>=threshold else 0 for s in list(merged['scores'])]    \n",
    "        \n",
    "        precisions[user] = precision_score(y_true, y_pred, zero_division=0)\n",
    "        recalls[user] = recall_score(y_true, y_pred, zero_division=0)\n",
    "        f1s[user] = f1_score(y_true, y_pred, zero_division=0)\n",
    "\n",
    "        accuracies[user] = accuracy_score(y_true, y_pred)\n",
    "\n",
    "    # average scores over all users \n",
    "    avg_precision = sum(list(precisions.values())) / len(list(precisions.values()))\n",
    "    avg_recall = sum(list(recalls.values())) / len(list(recalls.values()))\n",
    "    avg_f1 = sum(list(f1s.values())) / len(list(f1s.values()))\n",
    "    \n",
    "    avg_accuracy = sum(list(accuracies.values())) / len(list(accuracies.values()))\n",
    "    \n",
    "    return avg_precision, avg_recall, avg_f1, avg_accuracy"
   ]
  },
  {
   "cell_type": "code",
   "execution_count": 341,
   "metadata": {},
   "outputs": [],
   "source": [
    "def calculate_precision_recall_at_k(model, dataset, interactions, item_features, k, threshold = 0):\n",
    "    mapping = dataset.mapping()\n",
    "    index_user_id_mapping =  {v: k for k, v in mapping[0].items()}\n",
    "    n_users, n_items = interactions.shape\n",
    "\n",
    "    precisions = dict()\n",
    "    recalls = dict()\n",
    "    for user in range(n_users):\n",
    "        \n",
    "        scores = pd.Series(model.predict(user,np.arange(n_items), item_features=item_features))\n",
    "        scores = (scores - scores.min()) / (scores.max() - scores.min()) \n",
    "\n",
    "        scores = scores[scores >= threshold]\n",
    "        scores = list(pd.Series(scores.sort_values(ascending=False).index))\n",
    "        scores = [index_item_id_mapping[a] for a in scores]\n",
    "        relevant = list(new_test_set[new_test_set['user_id'] == index_user_id_mapping[user]]['app_id'])\n",
    "        top = [s for s in scores if s in relevant]\n",
    "\n",
    "        n_rel = len(relevant)\n",
    "        n_rec_k = len(scores[:k])\n",
    "        n_rel_and_rec_k = len(top[:k])\n",
    "\n",
    "        precisions[index_user_id_mapping[user]] = n_rel_and_rec_k / n_rec_k if n_rec_k != 0 else 0\n",
    "        recalls[index_user_id_mapping[user]] = n_rel_and_rec_k / n_rel if n_rel != 0 else 0\n",
    "    return precisions, recalls\n"
   ]
  },
  {
   "cell_type": "code",
   "execution_count": 382,
   "metadata": {},
   "outputs": [
    {
     "name": "stdout",
     "output_type": "stream",
     "text": [
      "Avg. Precision: 0.7895659196834278\n",
      "Avg. Recall: 0.9524032235143123\n",
      "Avg. F1: 0.842535669442419\n",
      "Avg. Accuracy: 0.7670138201812119\n"
     ]
    }
   ],
   "source": [
    "avg_precision, avg_recall, avg_f1, avg_accuracy = precision_recall_f1(model_t3, dataset2, interactions_new_train, item_features2, threshold=0.5)\n",
    "print(f'Avg. Precision: {avg_precision}')\n",
    "print(f'Avg. Recall: {avg_recall}')\n",
    "print(f'Avg. F1: {avg_f1}')\n",
    "print(f'Avg. Accuracy: {avg_accuracy}')"
   ]
  },
  {
   "cell_type": "code",
   "execution_count": 384,
   "metadata": {},
   "outputs": [
    {
     "name": "stdout",
     "output_type": "stream",
     "text": [
      "MAP@5: 0.9548943567798677\n"
     ]
    }
   ],
   "source": [
    "precision_k, recall_k = calculate_precision_recall_at_k(model_t3, dataset2, interactions_new_train, item_features2, k=5, threshold=0.6)\n",
    "print('MAP@5: '+ str(sum(prec for prec in precision_k.values()) / len(precision_k)))"
   ]
  },
  {
   "attachments": {},
   "cell_type": "markdown",
   "metadata": {},
   "source": [
    "## Recommend new games"
   ]
  },
  {
   "cell_type": "code",
   "execution_count": 395,
   "metadata": {},
   "outputs": [],
   "source": [
    "def get_top_n_games(model, dataset, interactions, item_features, user, n):\n",
    "    mapping = dataset.mapping()\n",
    "    index_user_id_mapping =  {v: k for k, v in mapping[0].items()}\n",
    "    n_users, n_items = interactions.shape\n",
    "        \n",
    "    scores = pd.Series(model.predict(user,np.arange(n_items), item_features=item_features))\n",
    "    scores = (scores - scores.min()) / (scores.max() - scores.min()) \n",
    "\n",
    "    #scores = scores[scores >= threshold]\n",
    "    scores = list(pd.Series(scores.sort_values(ascending=False).index))\n",
    "    scores = [index_item_id_mapping[a] for a in scores]\n",
    "    relevant = list(new_test_set[new_test_set['user_id'] == index_user_id_mapping[user]]['app_id'])\n",
    "    top = [s for s in scores if s not in relevant]\n",
    "\n",
    "    return top[:n]\n",
    "\n",
    "def get_titles_from_ids(id_list):\n",
    "    list = []\n",
    "    for i in id_list:\n",
    "        list.append(games[games['app_id'] == i]['title'].iloc[0])\n",
    "    return list"
   ]
  },
  {
   "cell_type": "code",
   "execution_count": 397,
   "metadata": {},
   "outputs": [
    {
     "data": {
      "text/plain": [
       "['Gunpoint',\n",
       " \"Yoku's Island Express\",\n",
       " 'Heat Signature',\n",
       " 'Slay the Spire',\n",
       " 'The Binding of Isaac: Rebirth',\n",
       " 'Crash Bandicoot™ N. Sane Trilogy',\n",
       " 'Max Payne 3',\n",
       " 'Elite Dangerous',\n",
       " 'Parkitect',\n",
       " 'Little Nightmares']"
      ]
     },
     "execution_count": 397,
     "metadata": {},
     "output_type": "execute_result"
    }
   ],
   "source": [
    "games_list = get_titles_from_ids(get_top_n_games(model_t3, dataset2, interactions_new_train, item_features2, user=464, n=10))\n",
    "games_list"
   ]
  },
  {
   "attachments": {},
   "cell_type": "markdown",
   "metadata": {},
   "source": [
    "### Hyperparameter tuning"
   ]
  },
  {
   "cell_type": "code",
   "execution_count": 398,
   "metadata": {},
   "outputs": [
    {
     "name": "stderr",
     "output_type": "stream",
     "text": [
      "\u001b[32m[I 2023-05-24 12:34:33,541]\u001b[0m A new study created in memory with name: lightfm_optimization\u001b[0m\n",
      "Epoch: 100%|██████████| 87/87 [01:58<00:00,  1.36s/it]\n",
      "\u001b[32m[I 2023-05-24 12:36:37,041]\u001b[0m Trial 0 finished with value: 0.4432067573070526 and parameters: {'loss': 'warp', 'learning_rate': 0.18435034002299955, 'no_components': 47, 'no_epochs': 87}. Best is trial 0 with value: 0.4432067573070526.\u001b[0m\n",
      "Epoch: 100%|██████████| 93/93 [03:38<00:00,  2.35s/it]\n",
      "\u001b[32m[I 2023-05-24 12:40:23,760]\u001b[0m Trial 1 finished with value: 0.8136935234069824 and parameters: {'loss': 'warp', 'learning_rate': 0.15566768027959457, 'no_components': 127, 'no_epochs': 93}. Best is trial 1 with value: 0.8136935234069824.\u001b[0m\n",
      "Epoch: 100%|██████████| 70/70 [02:08<00:00,  1.84s/it]\n",
      "\u001b[32m[I 2023-05-24 12:42:37,788]\u001b[0m Trial 2 finished with value: 0.5908264517784119 and parameters: {'loss': 'warp', 'learning_rate': 0.1673852974618393, 'no_components': 74, 'no_epochs': 70}. Best is trial 1 with value: 0.8136935234069824.\u001b[0m\n",
      "Epoch: 100%|██████████| 85/85 [03:20<00:00,  2.36s/it]\n",
      "\u001b[32m[I 2023-05-24 12:46:06,668]\u001b[0m Trial 3 finished with value: 0.855750322341919 and parameters: {'loss': 'warp', 'learning_rate': 0.17155193210985045, 'no_components': 139, 'no_epochs': 85}. Best is trial 3 with value: 0.855750322341919.\u001b[0m\n",
      "Epoch: 100%|██████████| 47/47 [00:47<00:00,  1.01s/it]\n",
      "\u001b[32m[I 2023-05-24 12:47:02,883]\u001b[0m Trial 4 finished with value: 0.26754480600357056 and parameters: {'loss': 'warp', 'learning_rate': 0.07276195231925864, 'no_components': 11, 'no_epochs': 47}. Best is trial 3 with value: 0.855750322341919.\u001b[0m\n",
      "Epoch: 100%|██████████| 41/41 [01:40<00:00,  2.44s/it]\n",
      "\u001b[32m[I 2023-05-24 12:48:50,450]\u001b[0m Trial 5 finished with value: 0.7944236397743225 and parameters: {'loss': 'warp', 'learning_rate': 0.24047938825263412, 'no_components': 122, 'no_epochs': 41}. Best is trial 3 with value: 0.855750322341919.\u001b[0m\n",
      "Epoch: 100%|██████████| 72/72 [04:42<00:00,  3.92s/it]\n",
      "\u001b[32m[I 2023-05-24 12:53:40,953]\u001b[0m Trial 6 finished with value: 0.44664353132247925 and parameters: {'loss': 'warp', 'learning_rate': 0.061833110047344944, 'no_components': 150, 'no_epochs': 72}. Best is trial 3 with value: 0.855750322341919.\u001b[0m\n",
      "Epoch: 100%|██████████| 24/24 [00:51<00:00,  2.15s/it]\n",
      "\u001b[32m[I 2023-05-24 12:54:36,838]\u001b[0m Trial 7 finished with value: 0.347098171710968 and parameters: {'loss': 'warp', 'learning_rate': 0.09315346434909394, 'no_components': 64, 'no_epochs': 24}. Best is trial 3 with value: 0.855750322341919.\u001b[0m\n",
      "Epoch: 100%|██████████| 42/42 [01:37<00:00,  2.33s/it]\n",
      "\u001b[32m[I 2023-05-24 12:56:20,406]\u001b[0m Trial 8 finished with value: 0.37726667523384094 and parameters: {'loss': 'warp', 'learning_rate': 0.08083299443497778, 'no_components': 76, 'no_epochs': 42}. Best is trial 3 with value: 0.855750322341919.\u001b[0m\n",
      "Epoch: 100%|██████████| 95/95 [02:19<00:00,  1.47s/it]\n",
      "\u001b[32m[I 2023-05-24 12:58:47,507]\u001b[0m Trial 9 finished with value: 0.33693501353263855 and parameters: {'loss': 'warp', 'learning_rate': 0.10374712292959003, 'no_components': 29, 'no_epochs': 95}. Best is trial 3 with value: 0.855750322341919.\u001b[0m\n",
      "Epoch: 100%|██████████| 69/69 [03:52<00:00,  3.37s/it]\n",
      "\u001b[32m[I 2023-05-24 13:02:46,425]\u001b[0m Trial 10 finished with value: 0.2821476459503174 and parameters: {'loss': 'warp', 'learning_rate': 0.022495476354893615, 'no_components': 104, 'no_epochs': 69}. Best is trial 3 with value: 0.855750322341919.\u001b[0m\n",
      "Epoch: 100%|██████████| 100/100 [04:01<00:00,  2.41s/it]\n",
      "\u001b[32m[I 2023-05-24 13:06:55,037]\u001b[0m Trial 11 finished with value: 0.8539851307868958 and parameters: {'loss': 'warp', 'learning_rate': 0.15044980618674758, 'no_components': 146, 'no_epochs': 100}. Best is trial 3 with value: 0.855750322341919.\u001b[0m\n",
      "Epoch: 100%|██████████| 99/99 [03:44<00:00,  2.27s/it]\n",
      "\u001b[32m[I 2023-05-24 13:10:47,433]\u001b[0m Trial 12 finished with value: 0.9315191507339478 and parameters: {'loss': 'warp', 'learning_rate': 0.20623504794076078, 'no_components': 147, 'no_epochs': 99}. Best is trial 12 with value: 0.9315191507339478.\u001b[0m\n",
      "Epoch: 100%|██████████| 82/82 [02:36<00:00,  1.91s/it]\n",
      "\u001b[32m[I 2023-05-24 13:13:29,915]\u001b[0m Trial 13 finished with value: 0.8243247866630554 and parameters: {'loss': 'warp', 'learning_rate': 0.2252139517865376, 'no_components': 103, 'no_epochs': 82}. Best is trial 12 with value: 0.9315191507339478.\u001b[0m\n",
      "Epoch: 100%|██████████| 10/10 [00:36<00:00,  3.61s/it]\n",
      "\u001b[32m[I 2023-05-24 13:14:12,174]\u001b[0m Trial 14 finished with value: 0.5029687285423279 and parameters: {'loss': 'warp', 'learning_rate': 0.19805911989311198, 'no_components': 128, 'no_epochs': 10}. Best is trial 12 with value: 0.9315191507339478.\u001b[0m\n"
     ]
    },
    {
     "name": "stdout",
     "output_type": "stream",
     "text": [
      "{'loss': 'warp', 'learning_rate': 0.20623504794076078, 'no_components': 147, 'no_epochs': 99}\n",
      "0.9315191507339478\n"
     ]
    }
   ],
   "source": [
    "import optuna\n",
    "from optuna.samplers import TPESampler\n",
    "\n",
    "def objective(trial):\n",
    "    # Define the search space\n",
    "    loss = trial.suggest_categorical('loss', ['warp'])\n",
    "    learning_rate = trial.suggest_float('learning_rate', 0.01, 0.25)\n",
    "    no_components = trial.suggest_int('no_components', 10, 150)\n",
    "    no_epochs = trial.suggest_int('no_epochs', 10, 100)\n",
    "\n",
    "    mm = LightFM(loss=loss, random_state=42, learning_rate=learning_rate, no_components=no_components)\n",
    "    mm = mm.fit(interactions_new_train,\n",
    "                item_features=item_features2,\n",
    "                  epochs=no_epochs,\n",
    "                  num_threads=2, verbose=True)\n",
    "    \n",
    "    score = precision_at_k(mm, interactions_new_train, item_features=item_features2, k=5).mean()\n",
    "    return score\n",
    "\n",
    "study = optuna.create_study(study_name=\"lightfm_optimization\",\n",
    "                            direction=\"maximize\",\n",
    "                            sampler=TPESampler())\n",
    "\n",
    "study.optimize(objective, n_trials=15)\n",
    "print(study.best_params)\n",
    "print(study.best_value)"
   ]
  },
  {
   "cell_type": "code",
   "execution_count": 399,
   "metadata": {},
   "outputs": [
    {
     "name": "stderr",
     "output_type": "stream",
     "text": [
      "Epoch: 100%|██████████| 99/99 [03:22<00:00,  2.04s/it]\n"
     ]
    }
   ],
   "source": [
    "# train model on train data\n",
    "model_tuned = LightFM(loss='warp', random_state=42, learning_rate=0.20623504794076078, no_components=147)\n",
    "model_tuned = model_t.fit(interactions_new_train, item_features=item_features2, # sample_weight=weights_train,  \n",
    "                  epochs=99,\n",
    "                  num_threads=2, verbose=True)"
   ]
  },
  {
   "cell_type": "code",
   "execution_count": 401,
   "metadata": {},
   "outputs": [
    {
     "name": "stdout",
     "output_type": "stream",
     "text": [
      "Avg. Precision: 0.7895235667557801\n",
      "Avg. Recall: 0.9535510796990294\n",
      "Avg. F1: 0.8431424306238733\n",
      "Avg. Accuracy: 0.7680161365193054\n"
     ]
    }
   ],
   "source": [
    "avg_precision, avg_recall, avg_f1, avg_accuracy = precision_recall_f1(model_tuned, dataset2, interactions_new_train, item_features2, threshold=0.5)\n",
    "print(f'Avg. Precision: {avg_precision}')\n",
    "print(f'Avg. Recall: {avg_recall}')\n",
    "print(f'Avg. F1: {avg_f1}')\n",
    "print(f'Avg. Accuracy: {avg_accuracy}')"
   ]
  },
  {
   "cell_type": "code",
   "execution_count": 402,
   "metadata": {},
   "outputs": [
    {
     "name": "stdout",
     "output_type": "stream",
     "text": [
      "MAP@5: 0.9582642417758584\n"
     ]
    }
   ],
   "source": [
    "precision_k, recall_k = calculate_precision_recall_at_k(model_tuned, dataset2, interactions_new_train, item_features2, k=5, threshold=0.6)\n",
    "print('MAP@5: '+ str(sum(prec for prec in precision_k.values()) / len(precision_k)))"
   ]
  }
 ],
 "metadata": {
  "kernelspec": {
   "display_name": "base",
   "language": "python",
   "name": "python3"
  },
  "language_info": {
   "codemirror_mode": {
    "name": "ipython",
    "version": 3
   },
   "file_extension": ".py",
   "mimetype": "text/x-python",
   "name": "python",
   "nbconvert_exporter": "python",
   "pygments_lexer": "ipython3",
   "version": "3.9.16"
  },
  "orig_nbformat": 4
 },
 "nbformat": 4,
 "nbformat_minor": 2
}
