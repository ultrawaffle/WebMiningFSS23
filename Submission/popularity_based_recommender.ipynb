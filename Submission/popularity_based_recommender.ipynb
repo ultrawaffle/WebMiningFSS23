{
 "cells": [
  {
   "cell_type": "code",
   "execution_count": 1,
   "metadata": {},
   "outputs": [],
   "source": [
    "import numpy as np\n",
    "import pandas as pd\n",
    "import random\n",
    "from surprise import Dataset, Reader, AlgoBase\n",
    "from surprise.model_selection import train_test_split\n",
    "import surprise as sp\n",
    "from collections import defaultdict"
   ]
  },
  {
   "cell_type": "code",
   "execution_count": 2,
   "metadata": {},
   "outputs": [],
   "source": [
    "# Define the popularity-based algorithm\n",
    "class PopularityAlgorithm(AlgoBase):\n",
    "    def __init__(self):\n",
    "        # Call the base class constructor\n",
    "        AlgoBase.__init__(self)\n",
    "\n",
    "    def fit(self, trainset,k=10):\n",
    "        '''\n",
    "        This method computes the popularity based on the trainset, and stores the popularity as a member variable.\n",
    "        Then it returns the list of top k popular games to recommend.\n",
    "        '''\n",
    "        # Store the trainset as a member variable\n",
    "        self.trainset = trainset\n",
    "\n",
    "        # Compute item popularity based on training set\n",
    "        item_popularity = np.zeros(trainset.n_items)\n",
    "        for _, item_id, _ in trainset.all_ratings():\n",
    "            item_popularity[item_id] += 1\n",
    "\n",
    "        # Store the item popularity as a member variable\n",
    "        self.item_popularity = item_popularity\n",
    "        top_items = np.argsort(self.item_popularity)[::-1]\n",
    "\n",
    "        # Get the top 10 popular games\n",
    "        top_popular_games = top_items\n",
    "\n",
    "        liste = []\n",
    "        # Print the top 10 popular games\n",
    "        for iid in top_popular_games:\n",
    "            item_id = trainset.to_raw_iid(iid)\n",
    "            liste.append(item_id)\n",
    "        self.liste = liste\n",
    "\n",
    "        return self\n",
    "\n",
    "    def estimate(self, k=False):\n",
    "        '''Recommends the top k popular games right away regardless of \n",
    "        customer's unique preferences.'''\n",
    "        if k:\n",
    "            # Return the item popularity as the estimated rating\n",
    "            return self.liste[:k]\n",
    "        else:\n",
    "            return self.liste\n",
    "            \n",
    "    def mapk(self, testset, k):\n",
    "        '''Returns the mean average precision at k based on the testset\n",
    "        and the given k value. It is important to use it in a range of k values'''\n",
    "        top_k = k  # Number of top recommendations to consider\n",
    "        num_users = 0\n",
    "        precision_sum = 0\n",
    "        self.fit(self.trainset, k=top_k)\n",
    "        # Create a dictionary to store ground truth items for each user\n",
    "        ground_truth_items_dict = {}\n",
    "        for uid, item_id, rating in testset:\n",
    "            if rating == 1.0:\n",
    "                ground_truth_items_dict.setdefault(uid, []).append(item_id)\n",
    "\n",
    "        #as far as this is a popularity based algorithm, the recommendations are the same for all users\n",
    "        recommended_items = self.estimate(top_k)\n",
    "        # Iterate over each user-item pair in the test set\n",
    "        for user_id, item_id, rating in testset:\n",
    "            ground_truth_items = ground_truth_items_dict.get(user_id, [])\n",
    "            \n",
    "            # Compute precision at k\n",
    "            num_correct = len(set(recommended_items).intersection(set(ground_truth_items)))\n",
    "            precision = num_correct / top_k\n",
    "            precision_sum += precision\n",
    "            num_users += 1\n",
    "\n",
    "        # Compute the average precision at k\n",
    "        precision_at_k = precision_sum / num_users\n",
    "        # Print the precision at k\n",
    "        print(\"Precision at\", top_k, \":\", precision_at_k)\n",
    "        \n",
    "        return precision_at_k\n",
    "    \n",
    "    def recall_at_k(self, testset,k=10):\n",
    "        '''Returns the recall based on the testset. If a k value is given, it returns the average recall at k. Else, it returns the average recall\n",
    "        based on each user's test recommendations list length'''\n",
    "        liste = self.estimate(k)\n",
    "        # Create a dictionary to store ground truth items for each user\n",
    "        ground_truth_items_dict = {}\n",
    "        \n",
    "        for uid, item_id, rating in testset:\n",
    "            if rating == 1.0:\n",
    "                ground_truth_items_dict.setdefault(uid, []).append(item_id)\n",
    "        \n",
    "        recall_sum = 0\n",
    "        num_users = 0\n",
    "        for user_id, item_id, rating in testset:\n",
    "            ground_truth_items = ground_truth_items_dict.get(user_id, [])\n",
    "            num_correct = len(set(liste).intersection(set(ground_truth_items)))\n",
    "            num_users += 1\n",
    "            if len(ground_truth_items) == 0:\n",
    "                recall = 0\n",
    "            else:\n",
    "                recall = num_correct / len(ground_truth_items)\n",
    "            recall_sum += recall\n",
    "        average_recall = recall_sum / num_users\n",
    "        print(\"Average recall at {}:\".format(k), average_recall)\n",
    "        return average_recall\n",
    "    \n",
    "    def f1_score(self, testset, k=10):\n",
    "        '''Returns the f1 score based on the precision and recall'''\n",
    "        precision = self.mapk(testset,k=k)\n",
    "        recall = self.recall_at_k(testset,k=k)\n",
    "        f1_score = 2 * ((precision * recall) / (precision + recall))\n",
    "        print(\"F1 score at k:\", f1_score)\n",
    "        return f1_score\n"
   ]
  },
  {
   "cell_type": "code",
   "execution_count": 3,
   "metadata": {},
   "outputs": [],
   "source": [
    "my_seed = 1\n",
    "random.seed(my_seed)\n",
    "np.random.seed(my_seed)"
   ]
  },
  {
   "cell_type": "code",
   "execution_count": 4,
   "metadata": {},
   "outputs": [],
   "source": [
    "def generate_int_id(df, id_col_name):\n",
    "    new_df=df.assign(\n",
    "        int_id_col_name=np.arange(len(df))\n",
    "        ).reset_index(drop=True)\n",
    "    return new_df.rename(columns={'int_id_col_name': id_col_name})"
   ]
  },
  {
   "cell_type": "code",
   "execution_count": 5,
   "metadata": {},
   "outputs": [],
   "source": [
    "recommendations = pd.read_csv(\"recommendations.csv\")\n",
    "games = pd.read_csv(\"games.csv\")\n",
    "users = pd.read_csv(\"users.csv\")\n",
    "games_metadata = pd.read_json(\"games_metadata.json\", lines=True)\n",
    "user_app_ratings = pd.merge(users.loc[users['reviews'] >= 20], recommendations, how=\"inner\", on=[\"user_id\"])\n",
    "user_app_ratings['is_recommended'] = user_app_ratings['is_recommended'].map({False: 0, True: 1})\n",
    "df_games = generate_int_id(games, 'app_id_num')\n",
    "df_games = pd.merge(df_games, games_metadata, how='left', on='app_id')"
   ]
  },
  {
   "cell_type": "code",
   "execution_count": 6,
   "metadata": {},
   "outputs": [],
   "source": [
    "# Load the dataset\n",
    "reader = Reader(rating_scale=(0, 1))\n",
    "data = Dataset.load_from_df(user_app_ratings[[\"user_id\", \"app_id\", \"is_recommended\"]], reader)\n",
    "\n",
    "# Split the dataset into train and test sets\n",
    "trainset, testset = train_test_split(data, test_size=0.25, random_state=1)"
   ]
  },
  {
   "cell_type": "code",
   "execution_count": 7,
   "metadata": {},
   "outputs": [
    {
     "data": {
      "text/plain": [
       "<__main__.PopularityAlgorithm at 0x7f99a719ee90>"
      ]
     },
     "execution_count": 7,
     "metadata": {},
     "output_type": "execute_result"
    }
   ],
   "source": [
    "# Create an instance of the popularity-based algorithm\n",
    "algo = PopularityAlgorithm()\n",
    "\n",
    "# Fit the algorithm on the training set\n",
    "algo.fit(trainset)"
   ]
  },
  {
   "cell_type": "code",
   "execution_count": 8,
   "metadata": {},
   "outputs": [
    {
     "name": "stdout",
     "output_type": "stream",
     "text": [
      "Precision at 1 : 0.06036886191690939\n",
      "Precision at 2 : 0.06009754819716711\n",
      "Precision at 3 : 0.0557534101327795\n",
      "Precision at 4 : 0.05253662735216521\n",
      "Precision at 5 : 0.05327853004095471\n",
      "Precision at 6 : 0.053349009237158\n",
      "Precision at 7 : 0.052904838828943056\n",
      "Precision at 8 : 0.0521460291521914\n",
      "Precision at 9 : 0.05084758683256865\n",
      "Precision at 10 : 0.04949385957803083\n"
     ]
    }
   ],
   "source": [
    "# K validates the number of recommendations to be made based on popularity. Recommends k most popular games to all users.\n",
    "for i in range(1, 11):\n",
    "    algo.mapk(testset, i)\n"
   ]
  },
  {
   "cell_type": "code",
   "execution_count": 9,
   "metadata": {},
   "outputs": [
    {
     "name": "stdout",
     "output_type": "stream",
     "text": [
      "Precision at 10 : 0.04949385957803083\n",
      "Average recall at 10: 0.0687880156383848\n",
      "F1 score at k: 0.05756730488806292\n"
     ]
    },
    {
     "data": {
      "text/plain": [
       "0.05756730488806292"
      ]
     },
     "execution_count": 9,
     "metadata": {},
     "output_type": "execute_result"
    }
   ],
   "source": [
    "algo.f1_score(testset, k=10)"
   ]
  },
  {
   "cell_type": "code",
   "execution_count": 10,
   "metadata": {},
   "outputs": [
    {
     "name": "stdout",
     "output_type": "stream",
     "text": [
      "Average recall at 10: 0.0687880156383848\n"
     ]
    },
    {
     "data": {
      "text/plain": [
       "0.0687880156383848"
      ]
     },
     "execution_count": 10,
     "metadata": {},
     "output_type": "execute_result"
    }
   ],
   "source": [
    "algo.recall_at_k(testset, k=10)"
   ]
  }
 ],
 "metadata": {
  "kernelspec": {
   "display_name": "dataminingv",
   "language": "python",
   "name": "python3"
  },
  "language_info": {
   "codemirror_mode": {
    "name": "ipython",
    "version": 3
   },
   "file_extension": ".py",
   "mimetype": "text/x-python",
   "name": "python",
   "nbconvert_exporter": "python",
   "pygments_lexer": "ipython3",
   "version": "3.10.6"
  },
  "orig_nbformat": 4
 },
 "nbformat": 4,
 "nbformat_minor": 2
}
